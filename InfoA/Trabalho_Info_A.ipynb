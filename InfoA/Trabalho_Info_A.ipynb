{
  "nbformat": 4,
  "nbformat_minor": 0,
  "metadata": {
    "colab": {
      "provenance": []
    },
    "kernelspec": {
      "name": "python3",
      "display_name": "Python 3"
    },
    "language_info": {
      "name": "python"
    }
  },
  "cells": [
    {
      "cell_type": "markdown",
      "source": [
        "**Mathias, Nicolas, Geovanna, Júlia**"
      ],
      "metadata": {
        "id": "FNj1dyJkW0X5"
      }
    },
    {
      "cell_type": "code",
      "execution_count": null,
      "metadata": {
        "id": "a-i_IuDCWwZm"
      },
      "outputs": [],
      "source": [
        "E-commerce tradicional do segmento de vestuário"
      ]
    },
    {
      "cell_type": "markdown",
      "source": [
        "**Toledo, Luis F., Pedro R., Igor**"
      ],
      "metadata": {
        "id": "dscYSCpsW3sp"
      }
    },
    {
      "cell_type": "code",
      "source": [
        "E-commerce marketplace do segmento de hotéis"
      ],
      "metadata": {
        "id": "28QXNBzdW9Of"
      },
      "execution_count": null,
      "outputs": []
    },
    {
      "cell_type": "markdown",
      "source": [
        "**Bayão, João Pedro, Pedro Henrique F., Rafael e Guilherme Rodrigues**"
      ],
      "metadata": {
        "id": "-7_G2SV6W95r"
      }
    },
    {
      "cell_type": "code",
      "source": [
        "E-commerce tradicional do segmento de Games Retrô"
      ],
      "metadata": {
        "id": "DdLot2uvYC5H"
      },
      "execution_count": null,
      "outputs": []
    },
    {
      "cell_type": "markdown",
      "source": [
        "**Teodoro, Arthur C., Rebeca S., Gabriel M.**"
      ],
      "metadata": {
        "id": "5fZNzl7yYDSY"
      }
    },
    {
      "cell_type": "code",
      "source": [
        "E-commerce marketplace do segmento de Pets"
      ],
      "metadata": {
        "id": "yHslQo0eYQIm"
      },
      "execution_count": null,
      "outputs": []
    },
    {
      "cell_type": "markdown",
      "source": [
        "**Arthur M., Ana S., Maria T.**"
      ],
      "metadata": {
        "id": "jAW3nvMbYUGJ"
      }
    },
    {
      "cell_type": "code",
      "source": [
        "E-commerce tradicional do segmento de Viagens"
      ],
      "metadata": {
        "id": "2O7bURdMYpBS"
      },
      "execution_count": null,
      "outputs": []
    },
    {
      "cell_type": "markdown",
      "source": [
        "**Isabela, Rebeca M., Maria Clara F., Maria Clara C.**"
      ],
      "metadata": {
        "id": "DKWMB80zYpTz"
      }
    },
    {
      "cell_type": "code",
      "source": [
        "E-commerce marketplace do segmento de Perfumaria"
      ],
      "metadata": {
        "id": "ZVzlwK32Y6WF"
      },
      "execution_count": null,
      "outputs": []
    },
    {
      "cell_type": "markdown",
      "source": [
        "**Kayke, Gabriel P., Guilherme M., João F., Luis E.**"
      ],
      "metadata": {
        "id": "cNMMryZrY6p9"
      }
    },
    {
      "cell_type": "code",
      "source": [
        "E-commerce tradicional do segmento de Transporte"
      ],
      "metadata": {
        "id": "NrCMW7iCZWky"
      },
      "execution_count": null,
      "outputs": []
    },
    {
      "cell_type": "markdown",
      "source": [
        "**João V., Gabriela, Gabrielle, Isadora, Maria L.**"
      ],
      "metadata": {
        "id": "KpX4622MZZca"
      }
    },
    {
      "cell_type": "code",
      "source": [
        "E-commerce marketplace do segmento de entretenimento"
      ],
      "metadata": {
        "id": "cFrVQ2qoZfzJ"
      },
      "execution_count": null,
      "outputs": []
    },
    {
      "cell_type": "markdown",
      "source": [
        "**Marlon, Caio, Pedro V., Miguel**"
      ],
      "metadata": {
        "id": "-lX4jexMZgJB"
      }
    },
    {
      "cell_type": "code",
      "source": [
        "E-commerce tradicional do segmento de alimentos"
      ],
      "metadata": {
        "id": "VZS0y9UeZxaB"
      },
      "execution_count": null,
      "outputs": []
    },
    {
      "cell_type": "markdown",
      "source": [
        "**Requisitos obrigatórios: commit na branch individual.**\n",
        "\n",
        "**1º - Login/Logout**\n",
        "\n",
        "**2º - Lista de produtos**\n",
        "\n",
        "**3º - Carrinho de compras**\n",
        "\n",
        "**4º - Métodos de pagamento**\n",
        "\n",
        "**5º - Dados do usuário logado**\n",
        "\n",
        "**REQUISITOS NÃO LISTADOS ENTRAM COMO BÔNUS, MAS SÓ SERÁ VALIDADO SE TODOS OS**\n",
        "**OBRIGATÓRIOS FOREM REALIZADOS!**\n",
        "\n",
        "**Criação de slides - Explicar o tipo de ecommerce e como as estruturas foram**\n",
        "**utilizadas em cada etapa do trabalho. Commit na branch main.**"
      ],
      "metadata": {
        "id": "ch6x1DB0mB0E"
      }
    }
  ]
}