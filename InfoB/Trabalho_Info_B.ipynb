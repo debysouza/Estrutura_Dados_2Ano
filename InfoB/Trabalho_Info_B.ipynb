{
  "nbformat": 4,
  "nbformat_minor": 0,
  "metadata": {
    "colab": {
      "provenance": []
    },
    "kernelspec": {
      "name": "python3",
      "display_name": "Python 3"
    },
    "language_info": {
      "name": "python"
    }
  },
  "cells": [
    {
      "cell_type": "markdown",
      "source": [
        "**Thalita, Lara, Rafaela, Maria V., Davi**"
      ],
      "metadata": {
        "id": "FNj1dyJkW0X5"
      }
    },
    {
      "cell_type": "code",
      "execution_count": null,
      "metadata": {
        "id": "a-i_IuDCWwZm"
      },
      "outputs": [],
      "source": [
        "E-commerce tradicional do segmento de Instrumentos Musicais"
      ]
    },
    {
      "cell_type": "markdown",
      "source": [
        "**Fabrício, Letícia, Andressa, Giovanna F.**"
      ],
      "metadata": {
        "id": "dscYSCpsW3sp"
      }
    },
    {
      "cell_type": "code",
      "source": [
        "E-commerce marketplace do segmento de Eventos"
      ],
      "metadata": {
        "id": "28QXNBzdW9Of"
      },
      "execution_count": null,
      "outputs": []
    },
    {
      "cell_type": "markdown",
      "source": [
        "**Júlia M., Giovana, Ana K., Maria A., Gabrielle**"
      ],
      "metadata": {
        "id": "-7_G2SV6W95r"
      }
    },
    {
      "cell_type": "code",
      "source": [
        "E-commerce tradicional do segmento de Cosméticos"
      ],
      "metadata": {
        "id": "DdLot2uvYC5H"
      },
      "execution_count": null,
      "outputs": []
    },
    {
      "cell_type": "markdown",
      "source": [
        "**Gabriel, Lucas B., Rafael, Ricardo, Pedro**"
      ],
      "metadata": {
        "id": "5fZNzl7yYDSY"
      }
    },
    {
      "cell_type": "code",
      "source": [
        "E-commerce marketplace do segmento de RH"
      ],
      "metadata": {
        "id": "yHslQo0eYQIm"
      },
      "execution_count": null,
      "outputs": []
    },
    {
      "cell_type": "markdown",
      "source": [
        "**Guilherme C., João G., João A., Cauã, Davi M.**"
      ],
      "metadata": {
        "id": "jAW3nvMbYUGJ"
      }
    },
    {
      "cell_type": "code",
      "source": [
        "E-commerce tradicional do segmento de Esportes"
      ],
      "metadata": {
        "id": "2O7bURdMYpBS"
      },
      "execution_count": null,
      "outputs": []
    },
    {
      "cell_type": "markdown",
      "source": [
        "**Júlia U., Ana M., Maria M., Júlia B., Lucas O., Anna B.**"
      ],
      "metadata": {
        "id": "DKWMB80zYpTz"
      }
    },
    {
      "cell_type": "code",
      "source": [
        "E-commerce marketplace do segmento de Transportes"
      ],
      "metadata": {
        "id": "ZVzlwK32Y6WF"
      },
      "execution_count": null,
      "outputs": []
    },
    {
      "cell_type": "markdown",
      "source": [
        "**Miguel, Benício, João B., Gustavo J., Samuel**"
      ],
      "metadata": {
        "id": "cNMMryZrY6p9"
      }
    },
    {
      "cell_type": "code",
      "source": [
        "E-commerce tradicional do segmento de Games Modernos"
      ],
      "metadata": {
        "id": "NrCMW7iCZWky"
      },
      "execution_count": null,
      "outputs": []
    },
    {
      "cell_type": "markdown",
      "source": [
        "**Biatrice, Gustavo E., Maria L., Luiza H.**"
      ],
      "metadata": {
        "id": "KpX4622MZZca"
      }
    },
    {
      "cell_type": "code",
      "source": [
        "E-commerce marketplace do segmento de Livraria"
      ],
      "metadata": {
        "id": "B5EYu7gsqO-T"
      },
      "execution_count": null,
      "outputs": []
    },
    {
      "cell_type": "markdown",
      "source": [
        "**Requisitos obrigatórios: commit na branch individual.**\n",
        "\n",
        "**1º - Login/Logout**\n",
        "\n",
        "**2º - Lista de produtos**\n",
        "\n",
        "**3º - Carrinho de compras**\n",
        "\n",
        "**4º - Métodos de pagamento**\n",
        "\n",
        "**5º - Dados do usuário logado**\n",
        "\n",
        "**REQUISITOS NÃO LISTADOS ENTRAM COMO BÔNUS, MAS SÓ SERÁ VALIDADO SE TODOS OS**\n",
        "**OBRIGATÓRIOS FOREM REALIZADOS!**\n",
        "\n",
        "**Criação de slides - Explicar o tipo de ecommerce e como as estruturas foram**\n",
        "**utilizadas em cada etapa do trabalho. Commit na branch main.**"
      ],
      "metadata": {
        "id": "ch6x1DB0mB0E"
      }
    }
  ]
}